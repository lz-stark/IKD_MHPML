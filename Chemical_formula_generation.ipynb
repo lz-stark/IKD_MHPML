{
 "cells": [
  {
   "cell_type": "code",
   "execution_count": null,
   "metadata": {},
   "outputs": [],
   "source": [
    "import numpy as np\n",
    "import threading\n",
    "import pandas as pd"
   ]
  },
  {
   "cell_type": "markdown",
   "metadata": {},
   "source": [
    "Eligible inorganic metal halide perovskite possible elements at various points"
   ]
  },
  {
   "cell_type": "code",
   "execution_count": null,
   "metadata": {},
   "outputs": [],
   "source": [
    "A_cations = ['Cs','Rb']\n",
    "#B_site is bivalent cationic homovalent doping\n",
    "B_cations = ['Be','Mg','Ca','Sr','Ba','Mn','Fe','Co','Ni','Pd','Pt','Cu','Zn','Cd','Hg','Ge','Sn','Pb','Eu','Tm','Yb','V']\n",
    "X_anions = ['I','Cl','Br']\n",
    "\n",
    "#The ionic radius is determined by the coordination number\n",
    "ion_radii = {\n",
    "    'Cs': 1.88, 'Rb': 1.72, 'Cu': 0.73, 'Pb': 1.19, 'Eu': 1.17, 'Co': 0.74, 'Mn':0.83 ,'Pd': 0.86,'Cl':1.81,'Br':1.96,\n",
    "    'Sn': 1.03, 'I': 2.2,'Zn':0.74,'Cd':0.95,'Be':0.45,'Mg':0.72,'Ca':1,'Sr':1.18,'Ba':1.35,'Fe':0.78,'Ni':0.7,'Pt':0.98,'Hg':1.03,'Ge':0.73,'Tm':1.03,'Yb':1.02,'V':0.79\n",
    "}"
   ]
  },
  {
   "cell_type": "markdown",
   "metadata": {},
   "source": [
    "Calculate the radius of each location of the virtual compound"
   ]
  },
  {
   "cell_type": "code",
   "execution_count": null,
   "metadata": {},
   "outputs": [],
   "source": [
    "import concurrent.futures\n",
    "from pymatgen.core import Composition\n",
    "def generate_candidate(i,site):\n",
    "    candidates = []\n",
    "    if site == 'A':\n",
    "        for X in X_anions:\n",
    "            for A1 in A_cations: \n",
    "                for A2 in A_cations:\n",
    "                    for B in B_cations:\n",
    "                        B1, B2 = B,B\n",
    "                        b = 1\n",
    "                        a = i\n",
    "                        if (A1 != A2) :\n",
    "                            candidate = ''.join([X, '3', A1, str(a), A2, str(1 - a), B1, str(b), B2, str(1 - b)])\n",
    "                            tmp_dict = {'formula': Composition(candidate).reduced_formula,\n",
    "                                        'A1': A1, 'A1_ratio': a, 'A2': A2, 'A2_ratio': 1 - a,\n",
    "                                        'B1': B1, 'B1_ratio': b, 'B2': B2, 'B2_ratio': 1 - b,\n",
    "                                        'X': X, 'X_ratio': 3,\n",
    "                                        'Ra': ion_radii[A1] * a + ion_radii[A2] * (1 - a),\n",
    "                                        'Rb': ion_radii[B1] * b + ion_radii[B2] * (1 - b),\n",
    "                                        'Rx': ion_radii[X]}\n",
    "                            candidates.append(tmp_dict)\n",
    "    elif site == 'B':\n",
    "        for X in X_anions:\n",
    "            for A in A_cations:\n",
    "                for B1 in B_cations:\n",
    "                    for B2 in B_cations:\n",
    "                        A1, A2 = A,A\n",
    "                        a = 1\n",
    "                        b = i \n",
    "                        if (B1 != B2):\n",
    "                            candidate = ''.join([X, '3', A1, str(a), A2, str(1 - a), B1, str(b), B2, str(1 - b)])\n",
    "                            tmp_dict = {'formula': Composition(candidate).reduced_formula,\n",
    "                                        'A1': A1, 'A1_ratio': a, 'A2': A2, 'A2_ratio': 1 - a,\n",
    "                                        'B1': B1, 'B1_ratio': b, 'B2': B2, 'B2_ratio': 1 - b,\n",
    "                                        'X': X, 'X_ratio': 3,\n",
    "                                        'Ra': ion_radii[A1] * a + ion_radii[A2] * (1 - a),\n",
    "                                        'Rb': ion_radii[B1] * b + ion_radii[B2] * (1 - b),\n",
    "                                        'Rx': ion_radii[X]}\n",
    "                            candidates.append(tmp_dict)\n",
    "    elif site == 'X':\n",
    "        for A in A_cations:\n",
    "            for B in B_cations:\n",
    "                for X1 in X_anions:\n",
    "                    for X2 in X_anions:\n",
    "                        A1,A2=A,A\n",
    "                        B1,B2=B,B\n",
    "                        a=1\n",
    "                        b=1\n",
    "                        x=i\n",
    "                        if (X1 != X2):\n",
    "                            candidate = ''.join([X1, str(x), X2, str(3- x), A1, str(a), A2, str(1 - a), B1, str(b), B2, str(1 - b)])\n",
    "                            tmp_dict = {'formula': Composition(candidate).reduced_formula,\n",
    "                                        'A1': A1, 'A1_ratio': a, 'A2': A2, 'A2_ratio': 1 - a,\n",
    "                                        'B1': B1, 'B1_ratio': b, 'B2': B2, 'B2_ratio': 1 - b,\n",
    "                                        'X1': X1, 'X1_ratio': x, 'X2': X2, 'X2_ratio': 3 - x,\n",
    "                                        'Ra': ion_radii[A1] * a + ion_radii[A2] * (1 - a),\n",
    "                                        'Rb': ion_radii[B1] * b + ion_radii[B2] * (1 - b),\n",
    "                                        'Rx': ion_radii[X1] * x + ion_radii[X2] * (3 - x)}\n",
    "                            candidates.append(tmp_dict)     \n",
    "    return candidates"
   ]
  },
  {
   "cell_type": "code",
   "execution_count": null,
   "metadata": {},
   "outputs": [],
   "source": [
    "def generate_candidates_concurrently(dope_range,site):\n",
    "    all_candidates = []\n",
    "    with concurrent.futures.ThreadPoolExecutor(max_workers=128) as executor:\n",
    "        # Create all possible combinations\n",
    "        futures = [executor.submit(generate_candidate, a,site) \n",
    "                   for a in dope_range]\n",
    "        for future in concurrent.futures.as_completed(futures):\n",
    "            all_candidates.extend(future.result())\n",
    "        result = pd.DataFrame(all_candidates)\n",
    "    return result.drop_duplicates(subset=['formula'], keep='first').reset_index(drop=True)"
   ]
  },
  {
   "cell_type": "code",
   "execution_count": null,
   "metadata": {},
   "outputs": [],
   "source": [
    "dope_range = np.arange(0, 1.01, 0.01)"
   ]
  },
  {
   "cell_type": "code",
   "execution_count": null,
   "metadata": {},
   "outputs": [],
   "source": [
    "site = 'A'\n",
    "result_a = generate_candidates_concurrently(dope_range,site)\n",
    "result_a"
   ]
  },
  {
   "cell_type": "code",
   "execution_count": null,
   "metadata": {},
   "outputs": [],
   "source": [
    "site = 'B'\n",
    "result_b = generate_candidates_concurrently(dope_range,site)\n",
    "result_b"
   ]
  },
  {
   "cell_type": "code",
   "execution_count": null,
   "metadata": {},
   "outputs": [],
   "source": [
    "dope_range = np.arange(0, 3.01, 0.01)\n",
    "site = 'X'\n",
    "result_x = generate_candidates_concurrently(dope_range,site)\n",
    "result_x"
   ]
  },
  {
   "cell_type": "code",
   "execution_count": null,
   "metadata": {},
   "outputs": [],
   "source": [
    "df0 = pd.concat([result_a,result_b,result_x],axis = 0).reset_index(drop=True)"
   ]
  },
  {
   "cell_type": "markdown",
   "metadata": {},
   "source": [
    "The new tolerance factor was calculated to screen the eligible hypothetical MHP materials"
   ]
  },
  {
   "cell_type": "code",
   "execution_count": null,
   "metadata": {},
   "outputs": [],
   "source": [
    "import seaborn as sns\n",
    "\n",
    "nA=1\n",
    "df0['New_Tolerance_Factor'] = df0['Rx']/df0['Rb'] - nA*(nA - (df0['Ra']/df0['Rb'])/np.log1p(df0['Ra']/df0['Rb'] - 1))\n",
    "df1 = df0[['formula', 'Ra', 'Rb', 'Rx', 'New_Tolerance_Factor']]\n",
    "sns.distplot(df1['New_Tolerance_Factor'])"
   ]
  },
  {
   "cell_type": "code",
   "execution_count": null,
   "metadata": {},
   "outputs": [],
   "source": [
    "df12 = df1.query('New_Tolerance_Factor<4.18')\n",
    "sns.distplot(df12['New_Tolerance_Factor'])"
   ]
  }
 ],
 "metadata": {
  "language_info": {
   "name": "python"
  }
 },
 "nbformat": 4,
 "nbformat_minor": 2
}
