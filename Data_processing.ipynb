{
 "cells": [
  {
   "cell_type": "code",
   "execution_count": null,
   "metadata": {},
   "outputs": [],
   "source": [
    "import pandas as pd\n",
    "import numpy as np\n",
    "import warnings\n",
    "warnings.filterwarnings(\"ignore\")"
   ]
  },
  {
   "cell_type": "code",
   "execution_count": null,
   "metadata": {},
   "outputs": [],
   "source": [
    "#Get the AIC of the hypothetical material from Matminer\n",
    "from matminer.featurizers.base import MultipleFeaturizer\n",
    "from matminer.featurizers import composition as cf\n",
    "from pymatgen.core import Composition\n",
    "\n",
    "feature_calculators = MultipleFeaturizer([cf.ElementProperty.from_preset(\"magpie\"),\n",
    "                                          cf.ValenceOrbital(props=['avg']), cf.IonProperty(fast=True)])\n",
    "feature_labels = feature_calculators.feature_labels()\n",
    "df12['composition'] = df12['formula'].map(Composition)\n",
    "df12_features = feature_calculators.featurize_dataframe(df12,col_id='composition')\n",
    "df_6w_AIC = df12_features[['formula','avg ionic char']]"
   ]
  },
  {
   "cell_type": "markdown",
   "metadata": {},
   "source": [
    "Through the clustering algorithm, the bandgap results of CrabNet_s are screened to find out the most suitable bandgap"
   ]
  },
  {
   "cell_type": "code",
   "execution_count": null,
   "metadata": {},
   "outputs": [],
   "source": [
    "from sklearn.cluster import KMeans\n",
    "from time import time\n",
    "\n",
    "kmeans = KMeans(n_clusters=2, random_state=0)\n",
    "def exclude_diff_hsedata(tmp:pd.Series):\n",
    "    if np.sum(np.array(tmp) == 0) >= 4:\n",
    "        return 0\n",
    "    else:\n",
    "        kmeans.fit(np.array(tmp).reshape(-1,1))\n",
    "        labels = kmeans.labels_\n",
    "        res = pd.DataFrame({'value': tmp, 'label': labels})\n",
    "        class0 = res[res['label']==0]\n",
    "        class1 = res[res['label']==1]\n",
    "        if len(class0) > len(class1):\n",
    "            return class0['value'].mean()\n",
    "        else:\n",
    "            return class1['value'].mean()\n",
    "\n",
    "start = time()\n",
    "\n",
    "#df_6w_AIC is 6.6w data with AIC characteristics, and the fold is the df_6w_AIC data prefix with [['hse_fold0','hse_fold1','hse_fold2','hse_fold3','hse_fold4']]\n",
    "fold = df_6w_AIC[['hse_fold0','hse_fold1','hse_fold2','hse_fold3','hse_fold4']]\n",
    "df_6w_AIC['mean'] = fold.iloc[:,:].apply(lambda x: exclude_diff_hsedata(x), axis=1)\n",
    "end = time()\n",
    "print(end - start)\n",
    "\n",
    "#\"New_Eg_6.6w.csv\" is given directly in the Data file\n",
    "df_6w_AIC.to_csv('./Data/New_Eg_6.6w.csv',index= False)"
   ]
  }
 ],
 "metadata": {
  "language_info": {
   "name": "python"
  }
 },
 "nbformat": 4,
 "nbformat_minor": 2
}
